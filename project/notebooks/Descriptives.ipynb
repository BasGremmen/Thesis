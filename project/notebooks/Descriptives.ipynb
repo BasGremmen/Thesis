{
 "cells": [
  {
   "cell_type": "code",
   "execution_count": 1,
   "id": "4a53c98c-b917-4cd0-ab74-552bfb0441d9",
   "metadata": {
    "tags": []
   },
   "outputs": [],
   "source": [
    "# Loading of all necessary imports\n",
    "# Using Seaborn instead of matplotlib for most plots as it has more powerful plots out of the box\n",
    "import pandas as pd\n",
    "from os import listdir\n",
    "from os.path import join\n",
    "import matplotlib.pyplot as plt\n",
    "from IPython.display import display, Markdown\n",
    "import seaborn as sns\n",
    "import numpy as np\n",
    "from matplotlib import colors\n",
    "import datetime"
   ]
  },
  {
   "cell_type": "code",
   "execution_count": 2,
   "id": "dce975e0-d9a2-4d5d-a485-a101eae45488",
   "metadata": {},
   "outputs": [],
   "source": [
    "# imports from sci-kit learn\n",
    "# Cluster models, pipeline methods and some model selection utilities\n",
    "from sklearn.model_selection import train_test_split, GroupShuffleSplit, GridSearchCV\n",
    "from sklearn.preprocessing import OneHotEncoder, normalize, StandardScaler\n",
    "from sklearn.pipeline import make_pipeline, Pipeline\n",
    "from sklearn.cluster import KMeans, AffinityPropagation, MeanShift, SpectralClustering, AgglomerativeClustering, DBSCAN\n",
    "from yellowbrick.cluster import KElbowVisualizer\n",
    "from sklearn.metrics import rand_score\n",
    "from sklearn.manifold import TSNE\n",
    "from sklearn.decomposition import PCA\n",
    "#from sklearn.neural_network import MLPClassifier\n",
    "from sklearn.compose import ColumnTransformer\n",
    "from sklearn import metrics"
   ]
  },
  {
   "cell_type": "code",
   "execution_count": 3,
   "id": "d9a30d78-d25e-4bdd-a2b5-27e21ea0e436",
   "metadata": {
    "tags": []
   },
   "outputs": [],
   "source": [
    "# Local source of data\n",
    "data_path = \"../data/\"\n",
    "\n",
    "daily_path = join(data_path, \"processed\", \"daily_data.csv.gz\")\n",
    "dem_path = join(data_path, \"processed\", \"participant_data.csv.gz\")\n",
    "df_participants = pd.read_csv(dem_path, compression='gzip')\n",
    "df_daily = pd.read_csv(daily_path, compression='gzip')\n",
    "df_participants.set_index(\"participant_id\", inplace=True)\n",
    "df_daily.set_index('participant_id', inplace=True)\n",
    "\n",
    "# Joining all the different dataframes together using participant ID as the key \n",
    "df = df_daily.merge(df_participants, how=\"left\", on='participant_id', suffixes=(None, '_dem'))"
   ]
  },
  {
   "cell_type": "code",
   "execution_count": 4,
   "id": "b078ba5d-4f9c-41ec-98c8-ce3fdedfe6ae",
   "metadata": {
    "tags": []
   },
   "outputs": [
    {
     "name": "stderr",
     "output_type": "stream",
     "text": [
      "C:\\Users\\bgrem\\AppData\\Local\\Temp\\ipykernel_26152\\269075366.py:4: FutureWarning: The default value of numeric_only in DataFrameGroupBy.mean is deprecated. In a future version, numeric_only will default to False. Either specify numeric_only or select only columns which should be valid for the function.\n",
      "  df_g = df.groupby('participant_id').mean()\n"
     ]
    }
   ],
   "source": [
    "df.drop(columns=['Unnamed: 0'], inplace=True)\n",
    "df['WearTime'] = (df['Cardio_minutes'] + df['Fat Burn_minutes'] + df['Peak_minutes'] + df['Out of Range_minutes'])\n",
    "df = df[df['WearTime'] > 720]\n",
    "df_g = df.groupby('participant_id').mean()\n",
    "df_g['Count'] = df.groupby('participant_id')['NumberSteps'].count()\n",
    "df = df_g\n",
    "df = df[df['Count'] > 5]"
   ]
  },
  {
   "cell_type": "code",
   "execution_count": 5,
   "id": "d76c4c4b-6b1f-407c-8909-d55b4cd3a5df",
   "metadata": {
    "tags": []
   },
   "outputs": [
    {
     "name": "stderr",
     "output_type": "stream",
     "text": [
      "C:\\Users\\bgrem\\AppData\\Local\\Temp\\ipykernel_26152\\1435447446.py:1: FutureWarning: In future versions `DataFrame.to_latex` is expected to utilise the base implementation of `Styler.to_latex` for formatting and rendering. The arguments signature may therefore change. It is recommended instead to use `DataFrame.style.to_latex` which also contains additional functionality.\n",
      "  long = df.describe().unstack().to_latex(longtable=True, buf='../descriptive_table.tex')\n"
     ]
    }
   ],
   "source": [
    "long = df.describe().unstack().to_latex(longtable=True, buf='../descriptive_table.tex') "
   ]
  }
 ],
 "metadata": {
  "kernelspec": {
   "display_name": "Python 3 (ipykernel)",
   "language": "python",
   "name": "python3"
  },
  "language_info": {
   "codemirror_mode": {
    "name": "ipython",
    "version": 3
   },
   "file_extension": ".py",
   "mimetype": "text/x-python",
   "name": "python",
   "nbconvert_exporter": "python",
   "pygments_lexer": "ipython3",
   "version": "3.8.17"
  }
 },
 "nbformat": 4,
 "nbformat_minor": 5
}
