{
 "cells": [
  {
   "cell_type": "code",
   "execution_count": 1,
   "id": "ef426c46-099a-4cd0-89fb-7a6e7b096689",
   "metadata": {},
   "outputs": [],
   "source": [
    "# Loading of all necessary imports\n",
    "import pandas as pd\n",
    "from os import listdir\n",
    "from os.path import join\n",
    "from IPython.display import display, Markdown\n",
    "import numpy as np\n",
    "import datetime\n",
    "\n",
    "from sklearn.preprocessing import OneHotEncoder, normalize, StandardScaler"
   ]
  },
  {
   "cell_type": "code",
   "execution_count": 2,
   "id": "d6a882c5-72ce-4754-8b22-c52b4eb6c427",
   "metadata": {},
   "outputs": [],
   "source": [
    "# Local source of data\n",
    "data_path = \"../data/\""
   ]
  },
  {
   "cell_type": "code",
   "execution_count": 3,
   "id": "c89e7a1f-a5d0-4b44-9adb-a17dd8912dc4",
   "metadata": {},
   "outputs": [],
   "source": [
    "survey_path = join(data_path, 'surveys')\n",
    "\n",
    "demographics_file_one_path = join(survey_path,'raw', 'demographics', 'part_one-demographics.csv.gz')\n",
    "demographics_file_two_path = join(survey_path,'raw', 'demographics', 'part_two-demographics_timings.csv.gz')"
   ]
  },
  {
   "cell_type": "code",
   "execution_count": 4,
   "id": "64c9d39b-b038-41ce-9f42-a6ba48407b27",
   "metadata": {},
   "outputs": [],
   "source": [
    "df_demographics_one = pd.read_csv(demographics_file_one_path, compression=\"gzip\")\n",
    "df_demographics_two = pd.read_csv(demographics_file_two_path, compression=\"gzip\")"
   ]
  },
  {
   "cell_type": "code",
   "execution_count": 5,
   "id": "958d9fef-0977-496f-9245-7bf8f7c3550e",
   "metadata": {
    "tags": []
   },
   "outputs": [
    {
     "name": "stderr",
     "output_type": "stream",
     "text": [
      "C:\\Users\\bgrem\\AppData\\Local\\Temp\\ipykernel_19500\\3732020977.py:4: FutureWarning: In future versions `DataFrame.to_latex` is expected to utilise the base implementation of `Styler.to_latex` for formatting and rendering. The arguments signature may therefore change. It is recommended instead to use `DataFrame.style.to_latex` which also contains additional functionality.\n",
      "  df_demographics.describe().T.to_latex(longtable=True, buf='../descriptives/dem_long_numerical.tex')\n",
      "C:\\Users\\bgrem\\AppData\\Local\\Temp\\ipykernel_19500\\3732020977.py:5: FutureWarning: In future versions `DataFrame.to_latex` is expected to utilise the base implementation of `Styler.to_latex` for formatting and rendering. The arguments signature may therefore change. It is recommended instead to use `DataFrame.style.to_latex` which also contains additional functionality.\n",
      "  df_demographics[['age']].describe().T.to_latex(buf='../descriptives/dem_short_numerical.tex', position='h', caption='The descriptives statistics of the age variable. The only numerical variable used.', label='desc:shortDemNum')\n",
      "C:\\Users\\bgrem\\AppData\\Local\\Temp\\ipykernel_19500\\3732020977.py:6: FutureWarning: In future versions `DataFrame.to_latex` is expected to utilise the base implementation of `Styler.to_latex` for formatting and rendering. The arguments signature may therefore change. It is recommended instead to use `DataFrame.style.to_latex` which also contains additional functionality.\n",
      "  df_demographics.describe(include='object').T.to_latex(longtable=True, buf='../descriptives/dem_long_categorical.tex')\n",
      "C:\\Users\\bgrem\\AppData\\Local\\Temp\\ipykernel_19500\\3732020977.py:7: FutureWarning: In future versions `DataFrame.to_latex` is expected to utilise the base implementation of `Styler.to_latex` for formatting and rendering. The arguments signature may therefore change. It is recommended instead to use `DataFrame.style.to_latex` which also contains additional functionality.\n",
      "  df_demographics[['participant_id', 'hours', 'gender', 'shift']].describe(include='object').T.to_latex(buf='../descriptives/dem_short_categorical.tex', position='h', caption='The descriptives statistics of the categorical variables included.', label='desc:shortDemCat')\n"
     ]
    }
   ],
   "source": [
    "df_demographics = df_demographics_one.merge(df_demographics_two, on='participant_id', how='inner')\n",
    "df_demographics['gender'] = df_demographics['gender'].astype('object')\n",
    "df_demographics['shift'] = df_demographics['shift'].astype('object')\n",
    "df_demographics.describe().T.to_latex(longtable=True, buf='../descriptives/dem_long_numerical.tex') \n",
    "df_demographics[['age']].describe().T.to_latex(buf='../descriptives/dem_short_numerical.tex', position='h', caption='The descriptives statistics of the age variable. The only numerical variable used.', label='desc:shortDemNum') \n",
    "df_demographics.describe(include='object').T.to_latex(longtable=True, buf='../descriptives/dem_long_categorical.tex') \n",
    "df_demographics[['participant_id', 'hours', 'gender', 'shift']].describe(include='object').T.to_latex(buf='../descriptives/dem_short_categorical.tex', position='h', caption='The descriptives statistics of the categorical variables included.', label='desc:shortDemCat') "
   ]
  },
  {
   "cell_type": "code",
   "execution_count": 6,
   "id": "23f9a22e-622a-45a4-ba1f-587233db05b0",
   "metadata": {
    "tags": []
   },
   "outputs": [],
   "source": [
    "raw_survey_containing_rand = join(survey_path, \"raw/baseline/part_two-demo_rand_swls_pss_mpfi_waaq_uwes_pcq_chss.csv.gz\")\n",
    "survey_part_one_path = join(survey_path, \"scored\", \"baseline\", \"part_one-abs_vocab_gats_audit_psqi_ipaq_iod_ocb_irb_itp_bfi_pan_stai.csv.gz\")\n",
    "survey_part_two_path = join(survey_path, \"scored\", \"baseline\", \"part_two-rand_swls_pss_mpfi_waaq_uwes_pcq_chss.csv.gz\")"
   ]
  },
  {
   "cell_type": "code",
   "execution_count": 7,
   "id": "8e1dd96b-3a8e-41df-95dc-47d8cf627905",
   "metadata": {
    "tags": []
   },
   "outputs": [],
   "source": [
    "df_surveys_one = pd.read_csv(survey_part_one_path, compression='gzip')\n",
    "df_surveys_two = pd.read_csv(survey_part_two_path, compression='gzip')"
   ]
  },
  {
   "cell_type": "code",
   "execution_count": 8,
   "id": "3bad227b-c9e9-48f2-a269-8c17bc802a41",
   "metadata": {
    "tags": []
   },
   "outputs": [
    {
     "name": "stderr",
     "output_type": "stream",
     "text": [
      "C:\\Users\\bgrem\\AppData\\Local\\Temp\\ipykernel_19500\\2761327169.py:4: FutureWarning: In future versions `DataFrame.to_latex` is expected to utilise the base implementation of `Styler.to_latex` for formatting and rendering. The arguments signature may therefore change. It is recommended instead to use `DataFrame.style.to_latex` which also contains additional functionality.\n",
      "  df_surveys_short.describe().T.to_latex(float_format=\"%.2f\", buf='../descriptives/base_short.tex', position='h', caption='Descriptives of the unprocessed survey data. All the other descriptives can be found in the appendix.', label='desc:shortBase')\n",
      "C:\\Users\\bgrem\\AppData\\Local\\Temp\\ipykernel_19500\\2761327169.py:5: FutureWarning: In future versions `DataFrame.to_latex` is expected to utilise the base implementation of `Styler.to_latex` for formatting and rendering. The arguments signature may therefore change. It is recommended instead to use `DataFrame.style.to_latex` which also contains additional functionality.\n",
      "  df_surveys.describe().T.to_latex(float_format=\"%.2f\", buf='../descriptives/base_num.tex', position='h', caption='Descriptives of the unprocessed numerical survey data.', label='desc:longNumBase')\n",
      "C:\\Users\\bgrem\\AppData\\Local\\Temp\\ipykernel_19500\\2761327169.py:6: FutureWarning: In future versions `DataFrame.to_latex` is expected to utilise the base implementation of `Styler.to_latex` for formatting and rendering. The arguments signature may therefore change. It is recommended instead to use `DataFrame.style.to_latex` which also contains additional functionality.\n",
      "  df_surveys.describe().T.to_latex(float_format=\"%.2f\", buf='../descriptives/base_cat.tex', position='h', caption='Descriptives of the unprocessed categorical survey data.', label='desc:longCatBase')\n"
     ]
    }
   ],
   "source": [
    "df_surveys = df_surveys_one.merge(df_surveys_two, on='participant_id', how='inner')\n",
    "rands = [col for col in df_surveys.columns if 'rand' in col]\n",
    "df_surveys_short = df_surveys[['audit', 'psqi', 'stai', 'pan_PosAffect', 'pan_NegAffect', 'chss_ChallengeStressors', 'chss_HindranceStressors'] + rands]\n",
    "df_surveys_short.describe().T.to_latex(float_format=\"%.2f\", buf='../descriptives/base_short.tex', position='h', caption='Descriptives of the unprocessed survey data. All the other descriptives can be found in the appendix.', label='desc:shortBase')\n",
    "df_surveys.describe().T.to_latex(float_format=\"%.2f\", buf='../descriptives/base_num.tex', position='h', caption='Descriptives of the unprocessed numerical survey data.', label='desc:longNumBase')\n",
    "df_surveys.describe().T.to_latex(float_format=\"%.2f\", buf='../descriptives/base_cat.tex', position='h', caption='Descriptives of the unprocessed categorical survey data.', label='desc:longCatBase')"
   ]
  },
  {
   "cell_type": "code",
   "execution_count": 9,
   "id": "cf05a68f-4d22-488b-8538-67245297fa25",
   "metadata": {
    "tags": []
   },
   "outputs": [],
   "source": [
    "daily_summary_folder_path = join(data_path, \"fitbit\", \"daily-summary\")"
   ]
  },
  {
   "cell_type": "code",
   "execution_count": 10,
   "id": "f5173475-fbd1-4db2-b409-866cf495b0e7",
   "metadata": {
    "tags": []
   },
   "outputs": [],
   "source": [
    "# Extracting every .gz file and adding a column with participant id for every participant's daily summary\n",
    "data_frames = []\n",
    "daily_summary_file_paths = listdir(daily_summary_folder_path)\n",
    "for daily_summary_path in daily_summary_file_paths:\n",
    "    if daily_summary_path[-2:] == 'gz':\n",
    "        df = pd.read_csv(join(daily_summary_folder_path, daily_summary_path), compression='gzip', parse_dates=['Timestamp'])\n",
    "        df['participant_id'] = daily_summary_path[:-7]\n",
    "        data_frames.append(df) \n",
    "        \n",
    "df_daily = pd.concat(data_frames)"
   ]
  },
  {
   "cell_type": "code",
   "execution_count": 11,
   "id": "43898982-d49a-459a-a367-21c134f4800a",
   "metadata": {
    "tags": []
   },
   "outputs": [
    {
     "name": "stderr",
     "output_type": "stream",
     "text": [
      "C:\\Users\\bgrem\\AppData\\Local\\Temp\\ipykernel_19500\\798492940.py:3: FutureWarning: In future versions `DataFrame.to_latex` is expected to utilise the base implementation of `Styler.to_latex` for formatting and rendering. The arguments signature may therefore change. It is recommended instead to use `DataFrame.style.to_latex` which also contains additional functionality.\n",
      "  df_daily_short.describe(include='object').T.to_latex(float_format=\"%.2f\", buf='../descriptives/short_daily_cat.tex', position='h', caption='Descriptive statistics of the raw categorical daily summary data (concatenated).', label='desc:dailyShortCat')\n",
      "C:\\Users\\bgrem\\AppData\\Local\\Temp\\ipykernel_19500\\798492940.py:4: FutureWarning: In future versions `DataFrame.to_latex` is expected to utilise the base implementation of `Styler.to_latex` for formatting and rendering. The arguments signature may therefore change. It is recommended instead to use `DataFrame.style.to_latex` which also contains additional functionality.\n",
      "  df_daily_short.describe().T.to_latex(float_format=\"%.2f\", buf='../descriptives/short_daily_num.tex', position='h', caption='Descriptive statistics of the raw numerical daily summary data (concatenated). All the other raw descriptives can be examined in the appendix.', label='desc:dailyShortNum')\n",
      "C:\\Users\\bgrem\\AppData\\Local\\Temp\\ipykernel_19500\\798492940.py:5: FutureWarning: In future versions `DataFrame.to_latex` is expected to utilise the base implementation of `Styler.to_latex` for formatting and rendering. The arguments signature may therefore change. It is recommended instead to use `DataFrame.style.to_latex` which also contains additional functionality.\n",
      "  df_daily.describe(include='object').T.to_latex(float_format=\"%.2f\", buf='../descriptives/long_daily_cat.tex', position='h',\n",
      "C:\\Users\\bgrem\\AppData\\Local\\Temp\\ipykernel_19500\\798492940.py:7: FutureWarning: In future versions `DataFrame.to_latex` is expected to utilise the base implementation of `Styler.to_latex` for formatting and rendering. The arguments signature may therefore change. It is recommended instead to use `DataFrame.style.to_latex` which also contains additional functionality.\n",
      "  df_daily.describe().T.to_latex(float_format=\"%.2f\", buf='../descriptives/long_daily_num.tex', position='h',\n"
     ]
    }
   ],
   "source": [
    "df_daily_short = df_daily[['participant_id', 'RestingHeartRate', 'Cardio_minutes', 'Fat Burn_minutes', 'Out of Range_minutes', 'Peak_minutes', 'NumberSteps', 'SleepMinutesAsleep', 'Timestamp']]\n",
    "with pd.option_context(\"max_colwidth\", 1000):    \n",
    "    df_daily_short.describe(include='object').T.to_latex(float_format=\"%.2f\", buf='../descriptives/short_daily_cat.tex', position='h', caption='Descriptive statistics of the raw categorical daily summary data (concatenated).', label='desc:dailyShortCat')\n",
    "    df_daily_short.describe().T.to_latex(float_format=\"%.2f\", buf='../descriptives/short_daily_num.tex', position='h', caption='Descriptive statistics of the raw numerical daily summary data (concatenated). All the other raw descriptives can be examined in the appendix.', label='desc:dailyShortNum')\n",
    "    df_daily.describe(include='object').T.to_latex(float_format=\"%.2f\", buf='../descriptives/long_daily_cat.tex', position='h', \n",
    "                                                   caption='Descriptive statistics of all raw categorical daily summary data (concatenated).', label='desc:dailyLongCat')\n",
    "    df_daily.describe().T.to_latex(float_format=\"%.2f\", buf='../descriptives/long_daily_num.tex', position='h', \n",
    "                                         caption='Descriptive statistics of all raw numerical daily summary data (concatenated).', label='desc:dailyLongNum')"
   ]
  },
  {
   "cell_type": "code",
   "execution_count": 12,
   "id": "352dd0bf-e391-4337-b40e-66f13f6deabc",
   "metadata": {
    "tags": []
   },
   "outputs": [
    {
     "name": "stderr",
     "output_type": "stream",
     "text": [
      "C:\\Users\\bgrem\\AppData\\Local\\Temp\\ipykernel_19500\\1091370030.py:11: FutureWarning: In future versions `DataFrame.to_latex` is expected to utilise the base implementation of `Styler.to_latex` for formatting and rendering. The arguments signature may therefore change. It is recommended instead to use `DataFrame.style.to_latex` which also contains additional functionality.\n",
      "  df_ema.T.to_latex(buf='../descriptives/short_ema.tex', position='h', caption='The descriptives for the EMA raw tables. The full descriptives for every table are in the appendix.', label='desc:emaShort')\n",
      "C:\\Users\\bgrem\\AppData\\Local\\Temp\\ipykernel_19500\\1091370030.py:13: FutureWarning: In future versions `DataFrame.to_latex` is expected to utilise the base implementation of `Styler.to_latex` for formatting and rendering. The arguments signature may therefore change. It is recommended instead to use `DataFrame.style.to_latex` which also contains additional functionality.\n",
      "  df_work.describe(include='object').T.to_latex(buf='../descriptives/long_work_cat.tex', position='h',\n",
      "C:\\Users\\bgrem\\AppData\\Local\\Temp\\ipykernel_19500\\1091370030.py:16: FutureWarning: In future versions `DataFrame.to_latex` is expected to utilise the base implementation of `Styler.to_latex` for formatting and rendering. The arguments signature may therefore change. It is recommended instead to use `DataFrame.style.to_latex` which also contains additional functionality.\n",
      "  df_exercise.describe().T.to_latex(buf='../descriptives/long_ex_num.tex', position='h',\n",
      "C:\\Users\\bgrem\\AppData\\Local\\Temp\\ipykernel_19500\\1091370030.py:18: FutureWarning: In future versions `DataFrame.to_latex` is expected to utilise the base implementation of `Styler.to_latex` for formatting and rendering. The arguments signature may therefore change. It is recommended instead to use `DataFrame.style.to_latex` which also contains additional functionality.\n",
      "  df_exercise.describe(include='object').T.to_latex(buf='../descriptives/long_ex_cat.tex', position='h',\n",
      "C:\\Users\\bgrem\\AppData\\Local\\Temp\\ipykernel_19500\\1091370030.py:21: FutureWarning: In future versions `DataFrame.to_latex` is expected to utilise the base implementation of `Styler.to_latex` for formatting and rendering. The arguments signature may therefore change. It is recommended instead to use `DataFrame.style.to_latex` which also contains additional functionality.\n",
      "  df_sleep.describe().T.to_latex(buf='../descriptives/long_sleep_num.tex', position='h',\n",
      "C:\\Users\\bgrem\\AppData\\Local\\Temp\\ipykernel_19500\\1091370030.py:23: FutureWarning: In future versions `DataFrame.to_latex` is expected to utilise the base implementation of `Styler.to_latex` for formatting and rendering. The arguments signature may therefore change. It is recommended instead to use `DataFrame.style.to_latex` which also contains additional functionality.\n",
      "  df_sleep.describe(include='object').T.to_latex(buf='../descriptives/long_sleep_cat.tex', position='h',\n"
     ]
    }
   ],
   "source": [
    "ema_path = join(data_path, \"surveys\", \"scored\", \"EMAs\")\n",
    "df_exercise = pd.read_csv(join(ema_path, 'ex.csv.gz'), compression=\"gzip\")\n",
    "df_work = pd.read_csv(join(ema_path, 'work.csv.gz'), compression=\"gzip\")\n",
    "df_sleep = pd.read_csv(join(ema_path, 'sleepd.csv.gz'), compression=\"gzip\")\n",
    "df_work['work_status'] = df_work['work_status'].astype('object')\n",
    "ex_short = df_exercise[['ex_Total']].describe().T\n",
    "sleep_short = df_sleep[['sleepd']].describe().T\n",
    "work_short = df_work[['work_status']].describe(include='object').T\n",
    "df_ema = pd.concat([ex_short, sleep_short, work_short])\n",
    "df_ema = df_ema.fillna('-')\n",
    "df_ema.T.to_latex(buf='../descriptives/short_ema.tex', position='h', caption='The descriptives for the EMA raw tables. The full descriptives for every table are in the appendix.', label='desc:emaShort')\n",
    "\n",
    "df_work.describe(include='object').T.to_latex(buf='../descriptives/long_work_cat.tex', position='h', \n",
    "                              caption='Raw descriptives for categorical variables in the work EMA table.', label='desc:workLongCat')\n",
    "\n",
    "df_exercise.describe().T.to_latex(buf='../descriptives/long_ex_num.tex', position='h', \n",
    "                              caption='Raw descriptives for numerical variables in the exercise EMA table.', label='desc:exLongNum')\n",
    "df_exercise.describe(include='object').T.to_latex(buf='../descriptives/long_ex_cat.tex', position='h', \n",
    "                              caption='Raw descriptives for categorical variables in the exercise EMA table.', label='desc:exLongCat')\n",
    "\n",
    "df_sleep.describe().T.to_latex(buf='../descriptives/long_sleep_num.tex', position='h', \n",
    "                              caption='Raw descriptives for numerical variables in the sleepd EMA table.', label='desc:sleepLongNum')\n",
    "df_sleep.describe(include='object').T.to_latex(buf='../descriptives/long_sleep_cat.tex', position='h', \n",
    "                              caption='Raw descriptives for categorical variables in the sleepd EMA table.', label='desc:sleepLongCat')"
   ]
  },
  {
   "cell_type": "code",
   "execution_count": 13,
   "id": "4330bfb1-6a94-4416-b4d3-06b49a6b288e",
   "metadata": {
    "tags": []
   },
   "outputs": [],
   "source": [
    "participant_path = join(data_path, \"processed\", \"participant_data.csv.gz\")\n",
    "df_participants = pd.read_csv(participant_path, compression='gzip')\n",
    "\n",
    "df_participants.set_index(\"participant_id\", inplace=True)\n",
    "daily_path = join(data_path, \"processed\", \"daily_data.csv.gz\")\n",
    "df_daily = pd.read_csv(daily_path, compression='gzip')\n",
    "df_daily.set_index('participant_id', inplace=True)\n",
    "\n",
    "# Joining all the different dataframes together using participant ID as the key \n",
    "df = df_daily.merge(df_participants, how=\"left\", on='participant_id', suffixes=(None, '_survey'))\n",
    "df.reset_index(inplace=True)"
   ]
  },
  {
   "cell_type": "code",
   "execution_count": 14,
   "id": "cd53c172-d8c3-4e77-8734-eab01e12e430",
   "metadata": {
    "tags": []
   },
   "outputs": [
    {
     "name": "stderr",
     "output_type": "stream",
     "text": [
      "C:\\Users\\bgrem\\AppData\\Local\\Temp\\ipykernel_19500\\443947614.py:3: FutureWarning: The default value of numeric_only in DataFrameGroupBy.mean is deprecated. In a future version, numeric_only will default to False. Either specify numeric_only or select only columns which should be valid for the function.\n",
      "  df_g = df.groupby('participant_id').mean()\n"
     ]
    }
   ],
   "source": [
    "df['WearTime'] = (df['Cardio_minutes'] + df['Fat Burn_minutes'] + df['Peak_minutes'] + df['Out of Range_minutes'])\n",
    "df = df[df['WearTime'] > 720]\n",
    "df_g = df.groupby('participant_id').mean()\n",
    "df_g['Count'] = df.groupby('participant_id')['NumberSteps'].count()\n",
    "df = df_g[df_g['Count'] > 5]\n",
    "df_cluster = df.copy()"
   ]
  },
  {
   "cell_type": "code",
   "execution_count": 15,
   "id": "0007de5d-6965-43f7-92d8-409a2132a665",
   "metadata": {
    "tags": []
   },
   "outputs": [
    {
     "name": "stderr",
     "output_type": "stream",
     "text": [
      "C:\\Users\\bgrem\\AppData\\Local\\Temp\\ipykernel_19500\\1483229444.py:5: FutureWarning: In future versions `DataFrame.to_latex` is expected to utilise the base implementation of `Styler.to_latex` for formatting and rendering. The arguments signature may therefore change. It is recommended instead to use `DataFrame.style.to_latex` which also contains additional functionality.\n",
      "  df_cluster[cluster_features].dropna().describe().T.to_latex(float_format=\"%.2f\", buf='../descriptives/processed_cluster.tex', position='h', caption='The statistics for the processed cluster data.', label='desc:clusterProcess')\n"
     ]
    }
   ],
   "source": [
    "cluster_features = ['randPhysical', \"swls\", \"psqi\", \"RestingHeartRate\", 'audit', 'pan_PosAffect', 'stai', 'chss_ChallengeStressors', 'chss_HindranceStressors']\n",
    "scaler = StandardScaler()\n",
    "df_cluster[cluster_features] = scaler.fit_transform(df_cluster[cluster_features])\n",
    "\n",
    "df_cluster[cluster_features].dropna().describe().T.to_latex(float_format=\"%.2f\", buf='../descriptives/processed_cluster.tex', position='h', caption='The statistics for the processed cluster data.', label='desc:clusterProcess')"
   ]
  },
  {
   "cell_type": "code",
   "execution_count": 16,
   "id": "e276a3c5-0e90-4fc1-b85b-60717c4e61bc",
   "metadata": {
    "tags": []
   },
   "outputs": [
    {
     "name": "stderr",
     "output_type": "stream",
     "text": [
      "C:\\Users\\bgrem\\AppData\\Local\\Temp\\ipykernel_19500\\4145295697.py:2: FutureWarning: In future versions `DataFrame.to_latex` is expected to utilise the base implementation of `Styler.to_latex` for formatting and rendering. The arguments signature may therefore change. It is recommended instead to use `DataFrame.style.to_latex` which also contains additional functionality.\n",
      "  processed.describe().T.to_latex(float_format=\"%.2f\", buf='../descriptives/processed_sleepQualityAnxiety.tex', position='h', caption='The descriptive statistics of the cleaned data.', label='desc:processSleepAnxiety')\n"
     ]
    }
   ],
   "source": [
    "processed = df_participants[['stai', 'psqi', 'gender', 'age', 'shift']].dropna()\n",
    "processed.describe().T.to_latex(float_format=\"%.2f\", buf='../descriptives/processed_sleepQualityAnxiety.tex', position='h', caption='The descriptive statistics of the cleaned data.', label='desc:processSleepAnxiety')"
   ]
  },
  {
   "cell_type": "code",
   "execution_count": 17,
   "id": "97ff5e0c-0de1-4e3a-b325-7be0d8be9f57",
   "metadata": {
    "tags": []
   },
   "outputs": [
    {
     "ename": "KeyError",
     "evalue": "\"['participant_id'] not in index\"",
     "output_type": "error",
     "traceback": [
      "\u001b[1;31m---------------------------------------------------------------------------\u001b[0m",
      "\u001b[1;31mKeyError\u001b[0m                                  Traceback (most recent call last)",
      "Cell \u001b[1;32mIn[17], line 1\u001b[0m\n\u001b[1;32m----> 1\u001b[0m df_subset \u001b[38;5;241m=\u001b[39m \u001b[43mdf_daily\u001b[49m\u001b[43m[\u001b[49m\u001b[43m[\u001b[49m\u001b[38;5;124;43m'\u001b[39;49m\u001b[38;5;124;43msleepd\u001b[39;49m\u001b[38;5;124;43m'\u001b[39;49m\u001b[43m,\u001b[49m\u001b[43m \u001b[49m\u001b[38;5;124;43m'\u001b[39;49m\u001b[38;5;124;43mparticipant_id\u001b[39;49m\u001b[38;5;124;43m'\u001b[39;49m\u001b[43m,\u001b[49m\u001b[43m \u001b[49m\u001b[38;5;124;43m'\u001b[39;49m\u001b[38;5;124;43mNumberSteps\u001b[39;49m\u001b[38;5;124;43m'\u001b[39;49m\u001b[43m,\u001b[49m\u001b[43m \u001b[49m\u001b[38;5;124;43m'\u001b[39;49m\u001b[38;5;124;43mFat Burn_minutes\u001b[39;49m\u001b[38;5;124;43m'\u001b[39;49m\u001b[43m,\u001b[49m\u001b[43m \u001b[49m\u001b[38;5;124;43m'\u001b[39;49m\u001b[38;5;124;43mPeak_minutes\u001b[39;49m\u001b[38;5;124;43m'\u001b[39;49m\u001b[43m,\u001b[49m\u001b[43m \u001b[49m\u001b[38;5;124;43m'\u001b[39;49m\u001b[38;5;124;43mCardio_minutes\u001b[39;49m\u001b[38;5;124;43m'\u001b[39;49m\u001b[43m,\u001b[49m\u001b[43m \u001b[49m\u001b[38;5;124;43m'\u001b[39;49m\u001b[38;5;124;43mOut of Range_minutes\u001b[39;49m\u001b[38;5;124;43m'\u001b[39;49m\u001b[43m,\u001b[49m\u001b[43m \u001b[49m\u001b[38;5;124;43m'\u001b[39;49m\u001b[38;5;124;43mwork_status\u001b[39;49m\u001b[38;5;124;43m'\u001b[39;49m\u001b[43m]\u001b[49m\u001b[43m]\u001b[49m\u001b[38;5;241m.\u001b[39mreset_index()\u001b[38;5;241m.\u001b[39mcopy()\n\u001b[0;32m      2\u001b[0m df_subset[\u001b[38;5;124m'\u001b[39m\u001b[38;5;124mActive_Minutes\u001b[39m\u001b[38;5;124m'\u001b[39m] \u001b[38;5;241m=\u001b[39m df_subset[\u001b[38;5;124m'\u001b[39m\u001b[38;5;124mCardio_minutes\u001b[39m\u001b[38;5;124m'\u001b[39m] \u001b[38;5;241m+\u001b[39m df_subset[\u001b[38;5;124m'\u001b[39m\u001b[38;5;124mPeak_minutes\u001b[39m\u001b[38;5;124m'\u001b[39m] \u001b[38;5;241m+\u001b[39m df_subset[\u001b[38;5;124m'\u001b[39m\u001b[38;5;124mFat Burn_minutes\u001b[39m\u001b[38;5;124m'\u001b[39m] \n\u001b[0;32m      3\u001b[0m df_subset[\u001b[38;5;124m'\u001b[39m\u001b[38;5;124mWearTime\u001b[39m\u001b[38;5;124m'\u001b[39m] \u001b[38;5;241m=\u001b[39m df_subset[\u001b[38;5;124m'\u001b[39m\u001b[38;5;124mActive_Minutes\u001b[39m\u001b[38;5;124m'\u001b[39m] \u001b[38;5;241m+\u001b[39m df_subset[\u001b[38;5;124m'\u001b[39m\u001b[38;5;124mOut of Range_minutes\u001b[39m\u001b[38;5;124m'\u001b[39m]\n",
      "File \u001b[1;32m~\\anaconda3\\envs\\thesis_rm4health\\lib\\site-packages\\pandas\\core\\frame.py:3813\u001b[0m, in \u001b[0;36mDataFrame.__getitem__\u001b[1;34m(self, key)\u001b[0m\n\u001b[0;32m   3811\u001b[0m     \u001b[38;5;28;01mif\u001b[39;00m is_iterator(key):\n\u001b[0;32m   3812\u001b[0m         key \u001b[38;5;241m=\u001b[39m \u001b[38;5;28mlist\u001b[39m(key)\n\u001b[1;32m-> 3813\u001b[0m     indexer \u001b[38;5;241m=\u001b[39m \u001b[38;5;28;43mself\u001b[39;49m\u001b[38;5;241;43m.\u001b[39;49m\u001b[43mcolumns\u001b[49m\u001b[38;5;241;43m.\u001b[39;49m\u001b[43m_get_indexer_strict\u001b[49m\u001b[43m(\u001b[49m\u001b[43mkey\u001b[49m\u001b[43m,\u001b[49m\u001b[43m \u001b[49m\u001b[38;5;124;43m\"\u001b[39;49m\u001b[38;5;124;43mcolumns\u001b[39;49m\u001b[38;5;124;43m\"\u001b[39;49m\u001b[43m)\u001b[49m[\u001b[38;5;241m1\u001b[39m]\n\u001b[0;32m   3815\u001b[0m \u001b[38;5;66;03m# take() does not accept boolean indexers\u001b[39;00m\n\u001b[0;32m   3816\u001b[0m \u001b[38;5;28;01mif\u001b[39;00m \u001b[38;5;28mgetattr\u001b[39m(indexer, \u001b[38;5;124m\"\u001b[39m\u001b[38;5;124mdtype\u001b[39m\u001b[38;5;124m\"\u001b[39m, \u001b[38;5;28;01mNone\u001b[39;00m) \u001b[38;5;241m==\u001b[39m \u001b[38;5;28mbool\u001b[39m:\n",
      "File \u001b[1;32m~\\anaconda3\\envs\\thesis_rm4health\\lib\\site-packages\\pandas\\core\\indexes\\base.py:6070\u001b[0m, in \u001b[0;36mIndex._get_indexer_strict\u001b[1;34m(self, key, axis_name)\u001b[0m\n\u001b[0;32m   6067\u001b[0m \u001b[38;5;28;01melse\u001b[39;00m:\n\u001b[0;32m   6068\u001b[0m     keyarr, indexer, new_indexer \u001b[38;5;241m=\u001b[39m \u001b[38;5;28mself\u001b[39m\u001b[38;5;241m.\u001b[39m_reindex_non_unique(keyarr)\n\u001b[1;32m-> 6070\u001b[0m \u001b[38;5;28;43mself\u001b[39;49m\u001b[38;5;241;43m.\u001b[39;49m\u001b[43m_raise_if_missing\u001b[49m\u001b[43m(\u001b[49m\u001b[43mkeyarr\u001b[49m\u001b[43m,\u001b[49m\u001b[43m \u001b[49m\u001b[43mindexer\u001b[49m\u001b[43m,\u001b[49m\u001b[43m \u001b[49m\u001b[43maxis_name\u001b[49m\u001b[43m)\u001b[49m\n\u001b[0;32m   6072\u001b[0m keyarr \u001b[38;5;241m=\u001b[39m \u001b[38;5;28mself\u001b[39m\u001b[38;5;241m.\u001b[39mtake(indexer)\n\u001b[0;32m   6073\u001b[0m \u001b[38;5;28;01mif\u001b[39;00m \u001b[38;5;28misinstance\u001b[39m(key, Index):\n\u001b[0;32m   6074\u001b[0m     \u001b[38;5;66;03m# GH 42790 - Preserve name from an Index\u001b[39;00m\n",
      "File \u001b[1;32m~\\anaconda3\\envs\\thesis_rm4health\\lib\\site-packages\\pandas\\core\\indexes\\base.py:6133\u001b[0m, in \u001b[0;36mIndex._raise_if_missing\u001b[1;34m(self, key, indexer, axis_name)\u001b[0m\n\u001b[0;32m   6130\u001b[0m     \u001b[38;5;28;01mraise\u001b[39;00m \u001b[38;5;167;01mKeyError\u001b[39;00m(\u001b[38;5;124mf\u001b[39m\u001b[38;5;124m\"\u001b[39m\u001b[38;5;124mNone of [\u001b[39m\u001b[38;5;132;01m{\u001b[39;00mkey\u001b[38;5;132;01m}\u001b[39;00m\u001b[38;5;124m] are in the [\u001b[39m\u001b[38;5;132;01m{\u001b[39;00maxis_name\u001b[38;5;132;01m}\u001b[39;00m\u001b[38;5;124m]\u001b[39m\u001b[38;5;124m\"\u001b[39m)\n\u001b[0;32m   6132\u001b[0m not_found \u001b[38;5;241m=\u001b[39m \u001b[38;5;28mlist\u001b[39m(ensure_index(key)[missing_mask\u001b[38;5;241m.\u001b[39mnonzero()[\u001b[38;5;241m0\u001b[39m]]\u001b[38;5;241m.\u001b[39munique())\n\u001b[1;32m-> 6133\u001b[0m \u001b[38;5;28;01mraise\u001b[39;00m \u001b[38;5;167;01mKeyError\u001b[39;00m(\u001b[38;5;124mf\u001b[39m\u001b[38;5;124m\"\u001b[39m\u001b[38;5;132;01m{\u001b[39;00mnot_found\u001b[38;5;132;01m}\u001b[39;00m\u001b[38;5;124m not in index\u001b[39m\u001b[38;5;124m\"\u001b[39m)\n",
      "\u001b[1;31mKeyError\u001b[0m: \"['participant_id'] not in index\""
     ]
    }
   ],
   "source": [
    "df_subset = df_daily[['sleepd', 'participant_id', 'NumberSteps', 'Fat Burn_minutes', 'Peak_minutes', 'Cardio_minutes', 'Out of Range_minutes', 'work_status']].reset_index().copy()\n",
    "df_subset['Active_Minutes'] = df_subset['Cardio_minutes'] + df_subset['Peak_minutes'] + df_subset['Fat Burn_minutes'] \n",
    "df_subset['WearTime'] = df_subset['Active_Minutes'] + df_subset['Out of Range_minutes']\n",
    "df_subset = df_subset[df_subset['WearTime'] >= 720]\n",
    "df_test = df_subset.merge(df_participants, how='inner', on='participant_id', suffixes=(None, '_survey'))\n",
    "df_test['work_status'] = df_test['work_status'] == 'yes'\n",
    "df_test = df_test[['sleepd', 'participant_id', 'NumberSteps', 'Active_Minutes', 'shift', 'gender', 'age', 'hours', 'work_status']].dropna()\n",
    "desc_table = df_test.describe(include=['object', 'number']).T[['count', 'unique', 'freq', 'mean', 'std', 'min', '25%', '50%', '75%', 'max']].fillna('-')\n",
    "desc_table = desc_table.rename(columns={'freq': 'max_freq'})\n",
    "\n",
    "desc_table.to_latex(buf='../descriptives/processed_SleepActivity.tex', position='h', caption='The descriptives of the processed sleep activity data.', label='desc:sleepActivity')"
   ]
  },
  {
   "cell_type": "code",
   "execution_count": null,
   "id": "af490619-6d13-4df2-9dfc-c6b55afb2daa",
   "metadata": {
    "tags": []
   },
   "outputs": [],
   "source": [
    "df_daily = pd.read_csv(daily_path, compression='gzip')\n",
    "df_daily['Wear Time'] = df_daily['Cardio_minutes'] + df_daily['Fat Burn_minutes'] + df_daily['Out of Range_minutes'] + df_daily['Peak_minutes']\n",
    "df_daily = df_daily[df_daily['Wear Time'] > 960]\n",
    "full_frame = df_daily.merge(df_daily, on='participant_id', how='inner', suffixes=('_yesterday', '_today'))\n",
    "full_frame = full_frame[(pd.to_datetime(full_frame['Timestamp_yesterday']) - pd.to_datetime(full_frame['Timestamp_today'])) == pd.Timedelta('-1 day')]"
   ]
  },
  {
   "cell_type": "code",
   "execution_count": null,
   "id": "1eb5c9ed-9b63-47f6-a7f1-1c5a284ea050",
   "metadata": {
    "tags": []
   },
   "outputs": [],
   "source": [
    "df_desc = full_frame.merge(df_participants, on='participant_id', how='inner', suffixes=(None, '_meta'))\n",
    "df_desc = df_desc[['participant_id', 'RestingHeartRate_today', 'NumberSteps_yesterday', 'age', 'shift', 'gender']].dropna()\n",
    "desc_table = df_desc.describe(include=['object', 'number']).T[['count', 'unique', 'freq', 'mean', 'std', 'min', '25%', '50%', '75%', 'max']].fillna('-')\n",
    "desc_table = desc_table.rename(columns={'freq': 'max_freq'})\n",
    "desc_table.to_latex(buf='../descriptives/stepsHeartRate.tex', caption='The processed descriptives of the number steps v. heart rate hypothesis.', label='desc:restSteps')"
   ]
  },
  {
   "cell_type": "code",
   "execution_count": null,
   "id": "56c82fc7-ca31-4b84-860c-71ad391ed61a",
   "metadata": {
    "tags": []
   },
   "outputs": [],
   "source": [
    "df_daily = pd.read_csv(daily_path, compression='gzip')\n",
    "df_daily['Wear Time'] = df_daily['Cardio_minutes'] + df_daily['Fat Burn_minutes'] + df_daily['Out of Range_minutes'] + df_daily['Peak_minutes']\n",
    "df_daily = df_daily[df_daily['Wear Time'] > 240]\n",
    "df_test = df_daily.merge(df_participants, on='participant_id', how='inner', suffixes=(None, '_survey'))\n",
    "df_test = df_test[['participant_id', 'ex_Total','age', 'gender', 'shift', 'RestingHeartRate']].copy()\n",
    "df_test.dropna(inplace=True)\n",
    "desc_table = df_test.describe(include=['object', 'number']).T[['count', 'unique', 'freq', 'mean', 'std', 'min', '25%', '50%', '75%', 'max']].fillna('-')\n",
    "desc_table = desc_table.rename(columns={'freq': 'max_freq'})\n",
    "desc_table.to_latex(buf='../descriptives/activityHeartRate.tex', caption='The processed descriptives for the activity and heart rate hypothesis', label='desc:activityRest')"
   ]
  }
 ],
 "metadata": {
  "kernelspec": {
   "display_name": "Python 3 (ipykernel)",
   "language": "python",
   "name": "python3"
  },
  "language_info": {
   "codemirror_mode": {
    "name": "ipython",
    "version": 3
   },
   "file_extension": ".py",
   "mimetype": "text/x-python",
   "name": "python",
   "nbconvert_exporter": "python",
   "pygments_lexer": "ipython3",
   "version": "3.8.17"
  }
 },
 "nbformat": 4,
 "nbformat_minor": 5
}
