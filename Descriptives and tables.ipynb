{
 "cells": [
  {
   "cell_type": "code",
   "execution_count": 1,
   "id": "4a53c98c-b917-4cd0-ab74-552bfb0441d9",
   "metadata": {
    "tags": []
   },
   "outputs": [],
   "source": [
    "# Loading of all necessary imports\n",
    "# Using Seaborn instead of matplotlib for most plots as it has more powerful plots out of the box\n",
    "import pandas as pd\n",
    "from os import listdir\n",
    "from os.path import join\n",
    "import matplotlib.pyplot as plt\n",
    "from IPython.display import display, Markdown\n",
    "import seaborn as sns\n",
    "import numpy as np\n",
    "from matplotlib import colors\n",
    "import datetime"
   ]
  },
  {
   "cell_type": "code",
   "execution_count": 2,
   "id": "dce975e0-d9a2-4d5d-a485-a101eae45488",
   "metadata": {},
   "outputs": [],
   "source": [
    "# imports from sci-kit learn\n",
    "# Cluster models, pipeline methods and some model selection utilities\n",
    "from sklearn.model_selection import train_test_split, GroupShuffleSplit, GridSearchCV\n",
    "from sklearn.preprocessing import OneHotEncoder, normalize, StandardScaler\n",
    "from sklearn.pipeline import make_pipeline, Pipeline\n",
    "from sklearn.cluster import KMeans, AffinityPropagation, MeanShift, SpectralClustering, AgglomerativeClustering, DBSCAN\n",
    "from yellowbrick.cluster import KElbowVisualizer\n",
    "from sklearn.metrics import rand_score\n",
    "from sklearn.manifold import TSNE\n",
    "from sklearn.decomposition import PCA\n",
    "#from sklearn.neural_network import MLPClassifier\n",
    "from sklearn.compose import ColumnTransformer\n",
    "from sklearn import metrics"
   ]
  },
  {
   "cell_type": "code",
   "execution_count": 3,
   "id": "4aca3e6a-8fa5-40d2-9dcc-0ca24c2c639a",
   "metadata": {},
   "outputs": [],
   "source": [
    "sns.set_theme()"
   ]
  },
  {
   "cell_type": "code",
   "execution_count": 4,
   "id": "c367d6ea-0ae1-4dad-a336-76a90fc40da5",
   "metadata": {
    "tags": []
   },
   "outputs": [],
   "source": [
    "df = pd.read_csv('../tests.csv', delimiter=';')\n",
    "df['Hypothesis'] = df.apply(lambda x: f'{x.X_text} has an effect on the {x.Y_text} of a participant.', axis=1)\n",
    "df['Hypothesis'] = df['Hypothesis'].apply(lambda x: x.capitalize())"
   ]
  },
  {
   "cell_type": "code",
   "execution_count": 5,
   "id": "5236f313-e15a-4874-af18-77dc12ac1652",
   "metadata": {
    "tags": []
   },
   "outputs": [
    {
     "name": "stdout",
     "output_type": "stream",
     "text": [
      "\\begin{tabular}{l|l|p{6cm}}\n",
      "\\toprule\n",
      "Outcome & Predictor &  \\\\\n",
      "\\midrule\n",
      "\\multirow[t]{7}{*}{RestingHeartRate} & NumberSteps & The number of daily steps has an effect on the resting heart rate of a participant. \\\\\n",
      " & Sleep1Efficiency & The quality of sleep has an effect on the resting heart rate of a participant. \\\\\n",
      " & Cardio\\_minutes & Cardio exercise has an effect on the resting heart rate of a participant. \\\\\n",
      " & Peak\\_minutes & High intensity exercise has an effect on the resting heart rate of a participant. \\\\\n",
      " & Fat Burn\\_minutes & Fat burn exercise has an effect on the resting heart rate of a participant. \\\\\n",
      " & SleepMinutesAsleep & Sleep duration has an effect on the resting heart rate of a participant. \\\\\n",
      " & audit & Alcohol usage has an effect on the resting heart rate of a participant. \\\\\n",
      "\\cline{1-3}\n",
      "\\multirow[t]{4}{*}{psqi} & Cardio\\_minutes & Cardio exercise has an effect on the sleep quality of a participant. \\\\\n",
      " & Peak\\_minutes & High intensity exercise has an effect on the sleep quality of a participant. \\\\\n",
      " & stai & Anxiety has an effect on the sleep quality of a participant. \\\\\n",
      " & Fat Burn\\_minutes & Fat burn exercise has an effect on the sleep quality of a participant. \\\\\n",
      "\\cline{1-3}\n",
      "\\multirow[t]{4}{*}{swls} & Cardio\\_minutes & Cardio exercise has an effect on the life satisfaction of a participant. \\\\\n",
      " & Peak\\_minutes & High intensity exercise has an effect on the life satisfaction of a participant. \\\\\n",
      " & stai & Anxiety has an effect on the life satisfaction of a participant. \\\\\n",
      " & Fat Burn\\_minutes & Fat burn exercise has an effect on the life satisfaction of a participant. \\\\\n",
      "\\cline{1-3}\n",
      "\\bottomrule\n",
      "\\end{tabular}\n",
      "\n"
     ]
    }
   ],
   "source": [
    "with pd.option_context(\"max_colwidth\", 1000):\n",
    "    with pd.option_context(\"styler.latex.multirow_align\", \"t\"):\n",
    "        df_tex = df.set_index(['Outcome', 'Predictor'])\n",
    "        s = df_tex[[\"Hypothesis\"]].style\n",
    "        s = s.format_index(escape=\"latex\", axis=0)\n",
    "        s = s.format_index(escape=\"latex\", axis=1)\n",
    "        s = s.hide(names=True, level=0, axis=1)\n",
    "        \n",
    "        #df.to_latex(columns=[\"Hypothesis\", 'Predictor', 'Outcome'], index=False, column_format='p{3.5cm}|p{5cm}|l', buf='test.tex')\n",
    "        print(s.to_latex(column_format='l|l|p{6cm}', hrules=True, clines=\"skip-last;data\"))"
   ]
  },
  {
   "cell_type": "code",
   "execution_count": 6,
   "id": "d9a30d78-d25e-4bdd-a2b5-27e21ea0e436",
   "metadata": {
    "tags": []
   },
   "outputs": [],
   "source": [
    "# Local source of data\n",
    "data_path = \"../data/\"\n",
    "\n",
    "daily_path = join(data_path, \"processed\", \"daily_data.csv.gz\")\n",
    "dem_path = join(data_path, \"processed\", \"participant_data.csv.gz\")\n",
    "df_participants = pd.read_csv(dem_path, compression='gzip')\n",
    "df_daily = pd.read_csv(daily_path, compression='gzip')\n",
    "df_participants.set_index(\"participant_id\", inplace=True)\n",
    "df_daily.set_index('participant_id', inplace=True)\n",
    "\n",
    "# Joining all the different dataframes together using participant ID as the key \n",
    "df = df_daily.merge(df_participants, how=\"left\", on='participant_id', suffixes=(None, '_dem'))"
   ]
  },
  {
   "cell_type": "code",
   "execution_count": 7,
   "id": "b078ba5d-4f9c-41ec-98c8-ce3fdedfe6ae",
   "metadata": {
    "tags": []
   },
   "outputs": [
    {
     "name": "stderr",
     "output_type": "stream",
     "text": [
      "C:\\Users\\bgrem\\AppData\\Local\\Temp\\ipykernel_33220\\269075366.py:4: FutureWarning: The default value of numeric_only in DataFrameGroupBy.mean is deprecated. In a future version, numeric_only will default to False. Either specify numeric_only or select only columns which should be valid for the function.\n",
      "  df_g = df.groupby('participant_id').mean()\n"
     ]
    }
   ],
   "source": [
    "df.drop(columns=['Unnamed: 0'], inplace=True)\n",
    "df['WearTime'] = (df['Cardio_minutes'] + df['Fat Burn_minutes'] + df['Peak_minutes'] + df['Out of Range_minutes'])\n",
    "df = df[df['WearTime'] > 720]\n",
    "df_g = df.groupby('participant_id').mean()\n",
    "df_g['Count'] = df.groupby('participant_id')['NumberSteps'].count()\n",
    "df = df_g\n",
    "df = df[df['Count'] > 5]"
   ]
  },
  {
   "cell_type": "code",
   "execution_count": 39,
   "id": "d76c4c4b-6b1f-407c-8909-d55b4cd3a5df",
   "metadata": {
    "tags": []
   },
   "outputs": [
    {
     "name": "stderr",
     "output_type": "stream",
     "text": [
      "C:\\Users\\bgrem\\AppData\\Local\\Temp\\ipykernel_33220\\1435447446.py:1: FutureWarning: In future versions `DataFrame.to_latex` is expected to utilise the base implementation of `Styler.to_latex` for formatting and rendering. The arguments signature may therefore change. It is recommended instead to use `DataFrame.style.to_latex` which also contains additional functionality.\n",
      "  long = df.describe().unstack().to_latex(longtable=True, buf='../descriptive_table.tex')\n"
     ]
    }
   ],
   "source": [
    "long = df.describe().unstack().to_latex(longtable=True, buf='../descriptive_table.tex') "
   ]
  }
 ],
 "metadata": {
  "kernelspec": {
   "display_name": "Python 3 (ipykernel)",
   "language": "python",
   "name": "python3"
  },
  "language_info": {
   "codemirror_mode": {
    "name": "ipython",
    "version": 3
   },
   "file_extension": ".py",
   "mimetype": "text/x-python",
   "name": "python",
   "nbconvert_exporter": "python",
   "pygments_lexer": "ipython3",
   "version": "3.8.17"
  }
 },
 "nbformat": 4,
 "nbformat_minor": 5
}
